{
 "cells": [
  {
   "cell_type": "code",
   "execution_count": 2,
   "id": "0764ffa1",
   "metadata": {},
   "outputs": [],
   "source": [
    "from tdc.single_pred import ADME\n",
    "from DeepPurpose.utils import *\n",
    "from DeepPurpose import CompoundPred\n",
    "from tdc import Evaluator\n",
    "from deepchem import deepchem\n",
    "import xgboost\n",
    "from sklearn.model_selection import RandomizedSearchCV\n",
    "import seaborn as sns\n",
    "import pandas as pd"
   ]
  },
  {
   "cell_type": "markdown",
   "id": "c4c59128",
   "metadata": {},
   "source": [
    "# Experiments"
   ]
  },
  {
   "cell_type": "code",
   "execution_count": 3,
   "id": "fd8b7dfc",
   "metadata": {},
   "outputs": [],
   "source": [
    "def BenchmarkModels(data_name: str, evaluator_name: str, classification: bool):\n",
    "    \"\"\"Function to train and test MPNN, Transform and XGBoost on a TDC ADME dataset specified by data_name.\n",
    "    The evaluator_name specifies which evalution metric to use and the classification boolean specfies whether to\n",
    "    build an XGBoost classification or regression model\"\"\"\n",
    "    \n",
    "    data = ADME(name = data_name)\n",
    "    # The scaffold split forces training and test set have distant molecular structures. This is done to try and\n",
    "    # replicate the real-world where drug structures evolve over time\n",
    "    split = data.get_split(method = 'scaffold')\n",
    "    evaluator = Evaluator(name = evaluator_name)\n",
    "    \n",
    "    drug_encodings = ['MPNN','Transformer']\n",
    "    scores = {}\n",
    "\n",
    "    # For MPNN and transformer encodings, the below formats the data to be compatiable with the DeepPurpose library.\n",
    "    # The models are then trained using default parameters, tested and evaluated\n",
    "    for drug_encoding in drug_encodings:\n",
    "        train = data_process(X_drug = split['train'].Drug.values, y = split['train'].Y.values, \n",
    "                    drug_encoding = drug_encoding,\n",
    "                    split_method='no_split')\n",
    "\n",
    "        val = data_process(X_drug = split['valid'].Drug.values, y = split['valid'].Y.values, \n",
    "                    drug_encoding = drug_encoding,\n",
    "                    split_method='no_split')\n",
    "\n",
    "        test = data_process(X_drug = split['test'].Drug.values, y = split['test'].Y.values, \n",
    "                    drug_encoding = drug_encoding,\n",
    "                    split_method='no_split')\n",
    "\n",
    "        config = generate_config(drug_encoding = drug_encoding)\n",
    "        model = CompoundPred.model_initialize(**config)\n",
    "        model.train(train, val, test, verbose = False)\n",
    "        y_pred = model.predict(test)\n",
    "        score = evaluator(split['test'].Y.values, y_pred)\n",
    "        scores[drug_encoding] = score\n",
    "    \n",
    "    # The MACCS fingerprint is used as the feature descriptor to input into the XGBoost model as it is relatively\n",
    "    # small compared to other popular fingerprints\n",
    "    maccskeys = deepchem.feat.MACCSKeysFingerprint()\n",
    "    maccs_train = maccskeys.featurize(split['train'].Drug.values)\n",
    "    # The validation set isn't used as we do no hyperparamter tuning on any of the models to keep comparisons fair.\n",
    "    # For a fair comparison we also do not use it to train the models\n",
    "    maccs_valid = maccskeys.featurize(split['valid'].Drug.values)\n",
    "    maccs_test = maccskeys.featurize(split['test'].Drug.values)\n",
    "    \n",
    "    # Use XGBoost regressor for regression tasks and XGBoost classifier for classification tasks\n",
    "    xgb = xgboost.XGBClassifier(tree_method='exact') if classification else xgboost.XGBRegressor(tree_method='exact')\n",
    "    xgb.fit(maccs_train, split['train'].Y.values)\n",
    "    \n",
    "    pred_xgb = xgb.predict(maccs_test)\n",
    "    score = evaluator(split['test'].Y.values, pred_xgb)\n",
    "    scores['XGBoost'] = score\n",
    "    \n",
    "    return scores\n",
    "    "
   ]
  },
  {
   "cell_type": "markdown",
   "id": "f71cae7b",
   "metadata": {},
   "source": [
    "### Absorption Model\n",
    "\n",
    "Lipophilicity, AstraZeneca dataset was used along with the recommended evaluation metric: MAE\n",
    "\n",
    "Note: Lipophilicity, AstraZeneca is the second largest dataset after Solubility, AqSolDB, however Solubility, AqSolDB\n",
    "failed the DeepPurpose data_process method (this can be seen in the Rough.ipynb file)."
   ]
  },
  {
   "cell_type": "code",
   "execution_count": 4,
   "id": "5a133953",
   "metadata": {},
   "outputs": [
    {
     "name": "stderr",
     "output_type": "stream",
     "text": [
      "Found local copy...\n",
      "Loading...\n",
      "Done!\n",
      "100%|█████████████████████████████████████| 4200/4200 [00:02<00:00, 2062.56it/s]\n"
     ]
    },
    {
     "name": "stdout",
     "output_type": "stream",
     "text": [
      "Drug Property Prediction Mode...\n",
      "in total: 2940 drugs\n",
      "encoding drug...\n",
      "unique drugs: 2940\n",
      "do not do train/test split on the data for already splitted data\n",
      "Drug Property Prediction Mode...\n",
      "in total: 420 drugs\n",
      "encoding drug...\n",
      "unique drugs: 420\n",
      "do not do train/test split on the data for already splitted data\n",
      "Drug Property Prediction Mode...\n",
      "in total: 840 drugs\n",
      "encoding drug...\n",
      "unique drugs: 840\n",
      "do not do train/test split on the data for already splitted data\n",
      "predicting...\n",
      "Drug Property Prediction Mode...\n",
      "in total: 2940 drugs\n",
      "encoding drug...\n",
      "unique drugs: 2940\n",
      "do not do train/test split on the data for already splitted data\n",
      "Drug Property Prediction Mode...\n",
      "in total: 420 drugs\n",
      "encoding drug...\n",
      "unique drugs: 420\n",
      "do not do train/test split on the data for already splitted data\n",
      "Drug Property Prediction Mode...\n",
      "in total: 840 drugs\n",
      "encoding drug...\n",
      "unique drugs: 840\n",
      "do not do train/test split on the data for already splitted data\n",
      "predicting...\n"
     ]
    }
   ],
   "source": [
    "abs_scores = BenchmarkModels('Lipophilicity_AstraZeneca', 'MAE', classification = False)"
   ]
  },
  {
   "cell_type": "code",
   "execution_count": 12,
   "id": "b3931925",
   "metadata": {
    "scrolled": true
   },
   "outputs": [
    {
     "data": {
      "image/png": "[encoded data removed]",
      "text/plain": [
       "<Figure size 640x480 with 1 Axes>"
      ]
     },
     "metadata": {},
     "output_type": "display_data"
    }
   ],
   "source": [
    "abs_score_df = pd.DataFrame.from_dict(abs_scores, orient = 'index', columns = ['MAE'])\n",
    "ax = sns.barplot(abs_score_df, x = abs_score_df.index, y = 'MAE')\n",
    "for i in ax.containers:\n",
    "    ax.bar_label(i,)"
   ]
  },
  {
   "cell_type": "markdown",
   "id": "f0270a2c",
   "metadata": {},
   "source": [
    "### Distribution\n",
    "\n",
    "BBB (Blood-Brain Barrier), Martins et al. dataset was used along with the recommended evaluation metric: AUROC"
   ]
  },
  {
   "cell_type": "code",
   "execution_count": 6,
   "id": "85c8e6b3",
   "metadata": {
    "scrolled": false
   },
   "outputs": [
    {
     "name": "stderr",
     "output_type": "stream",
     "text": [
      "Found local copy...\n",
      "Loading...\n",
      "Done!\n",
      "100%|█████████████████████████████████████| 2030/2030 [00:00<00:00, 2396.17it/s]\n"
     ]
    },
    {
     "name": "stdout",
     "output_type": "stream",
     "text": [
      "Drug Property Prediction Mode...\n",
      "in total: 1421 drugs\n",
      "encoding drug...\n",
      "unique drugs: 1383\n",
      "do not do train/test split on the data for already splitted data\n",
      "Drug Property Prediction Mode...\n",
      "in total: 203 drugs\n",
      "encoding drug...\n",
      "unique drugs: 198\n",
      "do not do train/test split on the data for already splitted data\n",
      "Drug Property Prediction Mode...\n",
      "in total: 406 drugs\n",
      "encoding drug...\n",
      "unique drugs: 394\n",
      "do not do train/test split on the data for already splitted data\n",
      "predicting...\n",
      "Drug Property Prediction Mode...\n",
      "in total: 1421 drugs\n",
      "encoding drug...\n",
      "unique drugs: 1383\n",
      "do not do train/test split on the data for already splitted data\n",
      "Drug Property Prediction Mode...\n",
      "in total: 203 drugs\n",
      "encoding drug...\n",
      "unique drugs: 198\n",
      "do not do train/test split on the data for already splitted data\n",
      "Drug Property Prediction Mode...\n",
      "in total: 406 drugs\n",
      "encoding drug...\n",
      "unique drugs: 394\n",
      "do not do train/test split on the data for already splitted data\n",
      "predicting...\n"
     ]
    }
   ],
   "source": [
    "dist_scores = BenchmarkModels('BBB_Martins', 'ROC-AUC', classification = True)"
   ]
  },
  {
   "cell_type": "code",
   "execution_count": 7,
   "id": "30052a50",
   "metadata": {},
   "outputs": [
    {
     "data": {
      "image/png": "[encoded data removed]",
      "text/plain": [
       "<Figure size 640x480 with 1 Axes>"
      ]
     },
     "metadata": {},
     "output_type": "display_data"
    }
   ],
   "source": [
    "dist_score_df = pd.DataFrame.from_dict(dist_scores, orient = 'index', columns = ['ROC-AUC'])\n",
    "ax = sns.barplot(dist_score_df, x = dist_score_df.index, y = 'ROC-AUC')\n",
    "for i in ax.containers:\n",
    "    ax.bar_label(i,)"
   ]
  },
  {
   "cell_type": "markdown",
   "id": "e2fcecf5",
   "metadata": {},
   "source": [
    "### Metabolism\n",
    "\n",
    "CYP P450 2D6 Inhibition, Veith et al. dataset was used along with the recommended evaluation metric: AUPRC"
   ]
  },
  {
   "cell_type": "code",
   "execution_count": 8,
   "id": "8da2c356",
   "metadata": {
    "scrolled": true
   },
   "outputs": [
    {
     "name": "stderr",
     "output_type": "stream",
     "text": [
      "Found local copy...\n",
      "Loading...\n",
      "Done!\n",
      "100%|███████████████████████████████████| 13130/13130 [00:05<00:00, 2350.48it/s]\n"
     ]
    },
    {
     "name": "stdout",
     "output_type": "stream",
     "text": [
      "Drug Property Prediction Mode...\n",
      "in total: 9191 drugs\n",
      "encoding drug...\n",
      "unique drugs: 9191\n",
      "do not do train/test split on the data for already splitted data\n",
      "Drug Property Prediction Mode...\n",
      "in total: 1313 drugs\n",
      "encoding drug...\n",
      "unique drugs: 1313\n",
      "do not do train/test split on the data for already splitted data\n",
      "Drug Property Prediction Mode...\n",
      "in total: 2626 drugs\n",
      "encoding drug...\n",
      "unique drugs: 2626\n",
      "do not do train/test split on the data for already splitted data\n",
      "predicting...\n",
      "Drug Property Prediction Mode...\n",
      "in total: 9191 drugs\n",
      "encoding drug...\n",
      "unique drugs: 9191\n",
      "do not do train/test split on the data for already splitted data\n",
      "Drug Property Prediction Mode...\n",
      "in total: 1313 drugs\n",
      "encoding drug...\n",
      "unique drugs: 1313\n",
      "do not do train/test split on the data for already splitted data\n",
      "Drug Property Prediction Mode...\n",
      "in total: 2626 drugs\n",
      "encoding drug...\n",
      "unique drugs: 2626\n",
      "do not do train/test split on the data for already splitted data\n",
      "predicting...\n"
     ]
    }
   ],
   "source": [
    "meta_scores = BenchmarkModels('CYP2D6_Veith', 'PR-AUC', classification = True)"
   ]
  },
  {
   "cell_type": "code",
   "execution_count": 9,
   "id": "9e59214d",
   "metadata": {},
   "outputs": [
    {
     "data": {
      "image/png": "[encoded data removed]",
      "text/plain": [
       "<Figure size 640x480 with 1 Axes>"
      ]
     },
     "metadata": {},
     "output_type": "display_data"
    }
   ],
   "source": [
    "meta_score_df = pd.DataFrame.from_dict(meta_scores, orient = 'index', columns = ['PR-AUC'])\n",
    "ax = sns.barplot(meta_score_df, x = meta_score_df.index, y = 'PR-AUC')\n",
    "for i in ax.containers:\n",
    "    ax.bar_label(i,)"
   ]
  },
  {
   "cell_type": "markdown",
   "id": "17545e7d",
   "metadata": {},
   "source": [
    "### Metabolism\n",
    "\n",
    "Clearance, AstraZeneca dataset was used along with the recommended evaluation metric: Spearman"
   ]
  },
  {
   "cell_type": "code",
   "execution_count": 10,
   "id": "dc3efb1a",
   "metadata": {
    "scrolled": false
   },
   "outputs": [
    {
     "name": "stderr",
     "output_type": "stream",
     "text": [
      "Found local copy...\n",
      "Loading...\n",
      "Done!\n",
      "100%|█████████████████████████████████████| 1102/1102 [00:00<00:00, 1880.05it/s]\n"
     ]
    },
    {
     "name": "stdout",
     "output_type": "stream",
     "text": [
      "Drug Property Prediction Mode...\n",
      "in total: 771 drugs\n",
      "encoding drug...\n",
      "unique drugs: 771\n",
      "do not do train/test split on the data for already splitted data\n",
      "Drug Property Prediction Mode...\n",
      "in total: 110 drugs\n",
      "encoding drug...\n",
      "unique drugs: 110\n",
      "do not do train/test split on the data for already splitted data\n",
      "Drug Property Prediction Mode...\n",
      "in total: 221 drugs\n",
      "encoding drug...\n",
      "unique drugs: 221\n",
      "do not do train/test split on the data for already splitted data\n",
      "predicting...\n",
      "Drug Property Prediction Mode...\n",
      "in total: 771 drugs\n",
      "encoding drug...\n",
      "unique drugs: 771\n",
      "do not do train/test split on the data for already splitted data\n",
      "Drug Property Prediction Mode...\n",
      "in total: 110 drugs\n",
      "encoding drug...\n",
      "unique drugs: 110\n",
      "do not do train/test split on the data for already splitted data\n",
      "Drug Property Prediction Mode...\n",
      "in total: 221 drugs\n",
      "encoding drug...\n",
      "unique drugs: 221\n",
      "do not do train/test split on the data for already splitted data\n",
      "predicting...\n"
     ]
    }
   ],
   "source": [
    "excr_scores = BenchmarkModels('Clearance_Microsome_AZ', 'Spearman', classification = False)"
   ]
  },
  {
   "cell_type": "code",
   "execution_count": 11,
   "id": "a4f571d8",
   "metadata": {},
   "outputs": [
    {
     "data": {
      "image/png": "[encoded data removed]",
      "text/plain": [
       "<Figure size 640x480 with 1 Axes>"
      ]
     },
     "metadata": {},
     "output_type": "display_data"
    }
   ],
   "source": [
    "excr_score_df = pd.DataFrame.from_dict(excr_scores, orient = 'index', columns = ['Spearman'])\n",
    "ax = sns.barplot(excr_score_df, x = excr_score_df.index, y = 'Spearman')\n",
    "for i in ax.containers:\n",
    "    ax.bar_label(i,)"
   ]
  },
  {
   "attachments": {},
   "cell_type": "markdown",
   "id": "c65c35d1",
   "metadata": {},
   "source": [
    "# Results for Sales Team\n",
    "\n",
    "Along with the visualisation of the results above, below are the results from benchmarking the performances of supervised graph neural networks, transformer models, and classical tree models on predicting ADME properites of small molecules.\n",
    "\n",
    "In order to determine the general ability of the model's ADME predictive power, each model was trained on a dataset corresponding to each of the properties making up the ADME acroynm (4 datasets per model). To further evaluate generalisation to ADME properties, the datasets were chosen to include 2 regression tasks (absorption and excretion), and 2 classification tasks (distribution and metabolism). The specific dataset within each ADME class from the Therapeutics Data Commons was chosen to be the one with largest number of samples.\n",
    "\n",
    "A 70/30 train-validation-test split was used to train and evaulate the models. The results show the performance of the models on each of the datasets. The evaluation metric for each dataset corresponds to the recommended metric for the dataset by the Therapeutics Data Commons - this will help to compare the models with other models in literature that use the same datasets.\n",
    "\n",
    "**Absorption - MAE:** \\\n",
    "'MPNN': 0.9983504806416373 **3rd** \\\n",
    "'Transformer': 0.907322991992746 **2nd** \\\n",
    "'XGBoost': 0.704565932706708 **1st**\n",
    "\n",
    "**Distribution - AUROC:** \\\n",
    "'MPNN': 0.4907363977485929 **3rd** \\\n",
    "'Transformer': 0.7944027517198249 **2nd** \\\n",
    "'XGBoost': 0.8077313946216386 **1st**\n",
    "\n",
    "**Metabolism - AUPRC:** \\\n",
    "'MPNN': 0.25415805112405554 **3rd** \\\n",
    "'Transformer': 0.4502612698810132 **1st** \\\n",
    "'XGBoost': 0.4429516180818023 **2nd**\n",
    "\n",
    "**Excretion - Spearman:** \\\n",
    "'MPNN': -0.0011259914958362681 **3rd** \\\n",
    "'Transformer': 0.0889491168009243 **2nd** \\\n",
    "'XGBoost': 0.41389315265077803 **1st**\n",
    "\n",
    "The results show that across all datasets the XGBoost was always a high performer - ranking first in 3 out of 4 of the datasets and a very close second in the metabolism dataset. The MPNN performed significantly worse across all datasets compared to the other two models. The overall performance of the models can be calculated as a rank corresponding to positions the models came in terms of performance for each of the dataset.\n",
    "\n",
    "**1st:** XGBoost\\\n",
    "**2nd:** Transformer\\\n",
    "**3rd:** MPNN\n",
    "\n",
    "The developer recommends the sales team to use the above findings to close the deal as it will help to illustrate the superiority of the DeepMirror platform across a variety ADME properties and datasets once trained and tested in the same way\n",
    "\n",
    "However, if the client requests only one dataset/evalutation metric, the developer recommends the absorption dataset (Lipophilicity, AstraZeneca ) as the it is a good summary of the overall performance and the evaluation metric is the most intuitative to a non-technnical person.\n",
    "\n"
   ]
  },
  {
   "cell_type": "code",
   "execution_count": null,
   "id": "e29eb5fc",
   "metadata": {},
   "outputs": [],
   "source": []
  },
  {
   "cell_type": "code",
   "execution_count": null,
   "id": "7ec53d3d",
   "metadata": {},
   "outputs": [],
   "source": []
  }
 ],
 "metadata": {
  "kernelspec": {
   "display_name": "Python 3 (ipykernel)",
   "language": "python",
   "name": "python3"
  },
  "language_info": {
   "codemirror_mode": {
    "name": "ipython",
    "version": 3
   },
   "file_extension": ".py",
   "mimetype": "text/x-python",
   "name": "python",
   "nbconvert_exporter": "python",
   "pygments_lexer": "ipython3",
   "version": "3.10.3"
  }
 },
 "nbformat": 4,
 "nbformat_minor": 5
}
